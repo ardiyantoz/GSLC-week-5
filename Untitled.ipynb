{
 "cells": [
  {
   "cell_type": "code",
   "execution_count": 11,
   "metadata": {},
   "outputs": [],
   "source": [
    "import matplotlib.pyplot as plt\n",
    "import pandas as pd\n",
    "from sklearn import linear_model\n",
    "from sklearn.model_selection import train_test_split\n",
    "import numpy as np\n",
    "import seaborn as sb\n",
    "from sklearn.metrics import r2_score, mean_squared_error, mean_absolute_error"
   ]
  },
  {
   "cell_type": "code",
   "execution_count": 12,
   "metadata": {},
   "outputs": [
    {
     "name": "stdout",
     "output_type": "stream",
     "text": [
      "id                                  int64\n",
      "name                               object\n",
      "host_id                             int64\n",
      "host_name                          object\n",
      "neighbourhood_group                object\n",
      "neighbourhood                      object\n",
      "latitude                          float64\n",
      "longitude                         float64\n",
      "room_type                          object\n",
      "price                               int64\n",
      "minimum_nights                      int64\n",
      "number_of_reviews                   int64\n",
      "last_review                        object\n",
      "reviews_per_month                 float64\n",
      "calculated_host_listings_count      int64\n",
      "availability_365                    int64\n",
      "dtype: object\n",
      "True\n"
     ]
    }
   ],
   "source": [
    "listData = pd.read_csv(\"listings.csv\")\n",
    "print(listData.dtypes)\n",
    "print(listData.isna().values.any())"
   ]
  },
  {
   "cell_type": "code",
   "execution_count": 22,
   "metadata": {
    "scrolled": true
   },
   "outputs": [
    {
     "name": "stdout",
     "output_type": "stream",
     "text": [
      "   minimum_nights\n",
      "0             180\n",
      "1              90\n",
      "2               6\n",
      "3               1\n",
      "4               1\n",
      "   latitude  longitude  price  number_of_reviews  reviews_per_month  \\\n",
      "0   1.44255  103.79580     83                  1               0.01   \n",
      "1   1.33235  103.78521     81                 18               0.28   \n",
      "2   1.44246  103.79667     69                 20               0.20   \n",
      "3   1.34541  103.95712    206                 14               0.15   \n",
      "4   1.34567  103.95963     94                 22               0.22   \n",
      "\n",
      "   calculated_host_listings_count  availability_365  \n",
      "0                               2               365  \n",
      "1                               1               365  \n",
      "2                               2               365  \n",
      "3                               9               353  \n",
      "4                               9               355  \n"
     ]
    }
   ],
   "source": [
    "newcontinuousData = listData[[\"latitude\",\"longitude\",\"price\",\"number_of_reviews\",\"reviews_per_month\",\"calculated_host_listings_count\",\"availability_365\"]]\n",
    "newdiscreteData = listData[[\"minimum_nights\"]]\n",
    "\n",
    "print(\"{}\".format(newdiscreteData.head()))\n",
    "print(\"{}\".format(newcontinuousData.head()))\n",
    "                            "
   ]
  },
  {
   "cell_type": "code",
   "execution_count": 32,
   "metadata": {},
   "outputs": [
    {
     "name": "stdout",
     "output_type": "stream",
     "text": [
      "Continuous: \n",
      "mean :\n",
      "latitude                            1.314192\n",
      "longitude                         103.848787\n",
      "price                             169.332996\n",
      "number_of_reviews                  12.807386\n",
      "reviews_per_month                   1.043669\n",
      "calculated_host_listings_count     40.607689\n",
      "availability_365                  208.726318\n",
      "dtype: float64\n",
      "\n",
      "variants :\n",
      "latitude                               0.000935\n",
      "longitude                              0.001907\n",
      "price                             115712.966513\n",
      "number_of_reviews                    882.438554\n",
      "reviews_per_month                      1.653092\n",
      "calculated_host_listings_count      4242.064633\n",
      "availability_365                   21348.364203\n",
      "dtype: float64\n",
      "\n",
      "Discrete : \n",
      "mean :\n",
      "minimum_nights    17.510054\n",
      "dtype: float64\n",
      "\n",
      "variants :\n",
      "minimum_nights    1771.732636\n",
      "dtype: float64\n",
      "\n"
     ]
    }
   ],
   "source": [
    "print(\"Continuous: \\nmean :\\n{}\".format(newcontinuousData.mean()))\n",
    "print(\"\\nvariants :\\n{}\\n\".format(np.var(newcontinuousData)))\n",
    "\n",
    "print(\"Discrete : \\nmean :\\n{}\".format(newdiscreteData.mean()))\n",
    "print(\"\\nvariants :\\n{}\\n\".format(np.var(newdiscreteData)))"
   ]
  },
  {
   "cell_type": "code",
   "execution_count": null,
   "metadata": {},
   "outputs": [],
   "source": []
  }
 ],
 "metadata": {
  "kernelspec": {
   "display_name": "Python 3",
   "language": "python",
   "name": "python3"
  },
  "language_info": {
   "codemirror_mode": {
    "name": "ipython",
    "version": 3
   },
   "file_extension": ".py",
   "mimetype": "text/x-python",
   "name": "python",
   "nbconvert_exporter": "python",
   "pygments_lexer": "ipython3",
   "version": "3.7.6"
  }
 },
 "nbformat": 4,
 "nbformat_minor": 4
}
